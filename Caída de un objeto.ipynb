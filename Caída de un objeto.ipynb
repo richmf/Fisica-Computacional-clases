{
 "cells": [
  {
   "cell_type": "code",
   "execution_count": 1,
   "id": "c6bd9e5c",
   "metadata": {},
   "outputs": [],
   "source": [
    "from pylab import *\n",
    "from scipy.integrate import *"
   ]
  },
  {
   "cell_type": "markdown",
   "id": "971ba5c8",
   "metadata": {},
   "source": [
    "La caida libre con fricción, $f_{fric} = -\\gamma |v|\\hat v$, es:\n",
    "$$\n",
    "\\ddot x = -\\gamma v_x \\\\\n",
    "\\ddot y = -g -\\gamma v_y\n",
    "$$\n",
    "o de manera equivalente\n",
    "$$\n",
    "\\dot x = v_x \\\\\n",
    "\\dot v_x = -\\gamma v_x \\\\\n",
    "\\dot y = v_y \\\\\n",
    "\\dot v_y = -g -\\gamma v_y\n",
    "$$"
   ]
  },
  {
   "cell_type": "code",
   "execution_count": 2,
   "id": "12a57f41",
   "metadata": {},
   "outputs": [],
   "source": [
    "def caida(t,vec,g=9.81,gamma=0):\n",
    "    d_vec = zeros_like(vec)\n",
    "    # vec = x , vx , y , vy\n",
    "    d_vec[0] = vec[1]\n",
    "    d_vec[1] = -gamma*vec[1]\n",
    "    d_vec[2] = vec[3]\n",
    "    d_vec[3] = -g - gamma*vec[3]\n",
    "    return d_vec"
   ]
  },
  {
   "cell_type": "code",
   "execution_count": 18,
   "id": "9802f8dd",
   "metadata": {},
   "outputs": [],
   "source": [
    "tf = 2\n",
    "ci = [0,0.5,2,0]\n",
    "x_v = solve_ivp(caida,(0,tf),ci,dense_output=True)"
   ]
  },
  {
   "cell_type": "code",
   "execution_count": 20,
   "id": "4e8847fc",
   "metadata": {},
   "outputs": [
    {
     "data": {
      "text/plain": [
       "(0.0, 2.5)"
      ]
     },
     "execution_count": 20,
     "metadata": {},
     "output_type": "execute_result"
    },
    {
     "data": {
      "image/png": "[encoded data removed]",
      "text/plain": [
       "<Figure size 432x288 with 1 Axes>"
      ]
     },
     "metadata": {
      "needs_background": "light"
     },
     "output_type": "display_data"
    }
   ],
   "source": [
    "t = linspace(0,tf)\n",
    "x,vx,y,vy = x_v.sol(t)\n",
    "plot(x,y)\n",
    "ylim([0,2.5])"
   ]
  },
  {
   "cell_type": "code",
   "execution_count": null,
   "id": "0740631e",
   "metadata": {},
   "outputs": [],
   "source": []
  }
 ],
 "metadata": {
  "kernelspec": {
   "display_name": "Python 3 (ipykernel)",
   "language": "python",
   "name": "python3"
  },
  "language_info": {
   "codemirror_mode": {
    "name": "ipython",
    "version": 3
   },
   "file_extension": ".py",
   "mimetype": "text/x-python",
   "name": "python",
   "nbconvert_exporter": "python",
   "pygments_lexer": "ipython3",
   "version": "3.9.12"
  }
 },
 "nbformat": 4,
 "nbformat_minor": 5
}
