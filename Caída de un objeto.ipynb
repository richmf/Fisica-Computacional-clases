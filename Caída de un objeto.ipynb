{
 "cells": [
  {
   "cell_type": "code",
   "execution_count": 1,
   "id": "3f81d68a",
   "metadata": {},
   "outputs": [],
   "source": [
    "from pylab import *\n",
    "from scipy.integrate import *"
   ]
  },
  {
   "cell_type": "markdown",
   "id": "38ac7dc3",
   "metadata": {},
   "source": [
    "La caida libre con fricción, $f_{fric} = -\\gamma |v|\\hat v$, es:\n",
    "$$\n",
    "\\ddot x = -\\gamma v_x \\\\\n",
    "\\ddot y = -g -\\gamma v_y\n",
    "$$\n",
    "o de manera equivalente\n",
    "$$\n",
    "\\dot x = v_x \\\\\n",
    "\\dot v_x = -\\gamma v_x \\\\\n",
    "\\dot y = v_y \\\\\n",
    "\\dot v_y = -g -\\gamma v_y\n",
    "$$"
   ]
  },
  {
   "cell_type": "code",
   "execution_count": 69,
   "id": "6883b397",
   "metadata": {},
   "outputs": [],
   "source": [
    "def caida(t,vec,g=9.81,gamma=0):\n",
    "    d_vec = zeros_like(vec)\n",
    "    # vec = x , vx , y , vy\n",
    "    d_vec[0] = vec[1]\n",
    "    d_vec[1] = -gamma*vec[1]\n",
    "    d_vec[2] = vec[3]\n",
    "    d_vec[3] = -g - gamma*vec[3]\n",
    "    return d_vec\n",
    "\n",
    "def suelo(t,vec,g=9.81,gamma=0):\n",
    "    return vec[2]"
   ]
  },
  {
   "cell_type": "code",
   "execution_count": 126,
   "id": "cc911b1f",
   "metadata": {},
   "outputs": [
    {
     "data": {
      "text/plain": [
       "0.6385508568141007"
      ]
     },
     "execution_count": 126,
     "metadata": {},
     "output_type": "execute_result"
    }
   ],
   "source": [
    "tf = 2\n",
    "ci = [0,0.5,2,0]\n",
    "t = linspace(0,tf)\n",
    "x_v = solve_ivp(caida,(0,tf),ci,args=(9.81,0.0,),dense_output=True,events=suelo)\n",
    "x_v_f = solve_ivp(caida,(0,tf),ci,args=(9.81,0.3,),dense_output=True,events=suelo)\n",
    "x_v.t_events[0][0]"
   ]
  },
  {
   "cell_type": "code",
   "execution_count": 112,
   "id": "4e8b1612",
   "metadata": {},
   "outputs": [
    {
     "data": {
      "image/png": "[encoded data removed]",
      "text/plain": [
       "<Figure size 432x288 with 1 Axes>"
      ]
     },
     "metadata": {
      "needs_background": "light"
     },
     "output_type": "display_data"
    }
   ],
   "source": [
    "t = linspace(0,x_v.t_events[0][0])\n",
    "x,vx,y,vy = x_v.sol(t)\n",
    "plot(x,y)\n",
    "t = linspace(0,x_v_f.t_events[0][0])\n",
    "x,vx,y,vy = x_v_f.sol(t)\n",
    "plot(x,y)\n",
    "ylim([-0.1,2.5])\n",
    "show()"
   ]
  },
  {
   "cell_type": "code",
   "execution_count": 206,
   "id": "006c4385",
   "metadata": {},
   "outputs": [],
   "source": [
    "def caida_rebote(ci,tf,g=9.81,fric=0,reb_tot=10):\n",
    "    delta_t = 0.1\n",
    "    x , y , t , reb , ti = array([]) , array([]) , array([]) , 0 , 0\n",
    "    while reb <= reb_tot-1:\n",
    "        x_v = solve_ivp(caida,(ti,tf),ci,args=(g,fric,),\n",
    "                        dense_output=True,events=suelo)\n",
    "        t_loc = arange(ti,x_v.t_events[0][-1],delta_t)\n",
    "        t_loc = concatenate(( t_loc , array([x_v.t_events[0][-1]]) ))\n",
    "        x_loc , vx_loc , y_loc , vy_loc = x_v.sol(t_loc)\n",
    "        x , y = concatenate((x,x_loc)) , concatenate((y,y_loc))\n",
    "        t = concatenate((t,t_loc))\n",
    "        ci = [x_loc[-1] , vx_loc[-1] , y_loc[-1] , -vy_loc[-1]]\n",
    "        ti = t[-1]\n",
    "        reb += 1\n",
    "    return t,x,y"
   ]
  },
  {
   "cell_type": "code",
   "execution_count": 210,
   "id": "54eb8d29",
   "metadata": {},
   "outputs": [
    {
     "data": {
      "image/png": "[encoded data removed]",
      "text/plain": [
       "<Figure size 432x288 with 1 Axes>"
      ]
     },
     "metadata": {
      "needs_background": "light"
     },
     "output_type": "display_data"
    }
   ],
   "source": [
    "t,x,y = caida_rebote(ci,10,fric=0.5,reb_tot=5)\n",
    "plot(x,y,'o')\n",
    "show()"
   ]
  },
  {
   "cell_type": "code",
   "execution_count": 211,
   "id": "00f3c434",
   "metadata": {},
   "outputs": [
    {
     "data": {
      "text/plain": [
       "array([0.        , 0.1       , 0.2       , 0.3       , 0.4       ,\n",
       "       0.5       , 0.6       , 0.67460036, 0.67460036, 0.77460036,\n",
       "       0.87460036, 0.97460036, 1.07460036, 1.17460036, 1.27460036,\n",
       "       1.37460036, 1.47460036, 1.57460036, 1.67460036, 1.72796038,\n",
       "       1.72796038, 1.82796038, 1.92796038, 2.02796038, 2.12796038,\n",
       "       2.22796038, 2.32796038, 2.42796038, 2.52796038, 2.6229717 ,\n",
       "       2.6229717 , 2.7229717 , 2.8229717 , 2.9229717 , 3.0229717 ,\n",
       "       3.1229717 , 3.2229717 , 3.3229717 , 3.4013473 , 3.4013473 ,\n",
       "       3.5013473 , 3.6013473 , 3.7013473 , 3.8013473 , 3.9013473 ,\n",
       "       4.0013473 , 4.09005207])"
      ]
     },
     "execution_count": 211,
     "metadata": {},
     "output_type": "execute_result"
    }
   ],
   "source": [
    "t"
   ]
  },
  {
   "cell_type": "code",
   "execution_count": null,
   "id": "63e461f8",
   "metadata": {},
   "outputs": [],
   "source": []
  }
 ],
 "metadata": {
  "kernelspec": {
   "display_name": "Python 3 (ipykernel)",
   "language": "python",
   "name": "python3"
  },
  "language_info": {
   "codemirror_mode": {
    "name": "ipython",
    "version": 3
   },
   "file_extension": ".py",
   "mimetype": "text/x-python",
   "name": "python",
   "nbconvert_exporter": "python",
   "pygments_lexer": "ipython3",
   "version": "3.9.12"
  }
 },
 "nbformat": 4,
 "nbformat_minor": 5
}
