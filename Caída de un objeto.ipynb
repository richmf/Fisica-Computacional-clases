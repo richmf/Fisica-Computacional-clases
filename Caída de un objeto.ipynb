{
 "cells": [
  {
   "cell_type": "code",
   "execution_count": 1,
   "id": "075b9371",
   "metadata": {},
   "outputs": [],
   "source": [
    "from pylab import *\n",
    "from scipy.integrate import *"
   ]
  },
  {
   "cell_type": "markdown",
   "id": "ee6fabf3",
   "metadata": {},
   "source": [
    "La caida libre con fricción, $f_{fric} = -\\gamma |v|\\hat v$, es:\n",
    "$$\n",
    "\\ddot x = -\\gamma v_x \\\\\n",
    "\\ddot y = -g -\\gamma v_y\n",
    "$$\n",
    "o de manera equivalente\n",
    "$$\n",
    "\\dot x = v_x \\\\\n",
    "\\dot v_x = -\\gamma v_x \\\\\n",
    "\\dot y = v_y \\\\\n",
    "\\dot v_y = -g -\\gamma v_y\n",
    "$$"
   ]
  },
  {
   "cell_type": "code",
   "execution_count": 69,
   "id": "4e9b17c4",
   "metadata": {},
   "outputs": [],
   "source": [
    "def caida(t,vec,g=9.81,gamma=0):\n",
    "    d_vec = zeros_like(vec)\n",
    "    # vec = x , vx , y , vy\n",
    "    d_vec[0] = vec[1]\n",
    "    d_vec[1] = -gamma*vec[1]\n",
    "    d_vec[2] = vec[3]\n",
    "    d_vec[3] = -g - gamma*vec[3]\n",
    "    return d_vec\n",
    "\n",
    "def suelo(t,vec,g=9.81,gamma=0):\n",
    "    return vec[2]"
   ]
  },
  {
   "cell_type": "code",
   "execution_count": 126,
   "id": "27915c3c",
   "metadata": {},
   "outputs": [
    {
     "data": {
      "text/plain": [
       "0.6385508568141007"
      ]
     },
     "execution_count": 126,
     "metadata": {},
     "output_type": "execute_result"
    }
   ],
   "source": [
    "tf = 2\n",
    "ci = [0,0.5,2,0]\n",
    "t = linspace(0,tf)\n",
    "x_v = solve_ivp(caida,(0,tf),ci,args=(9.81,0.0,),dense_output=True,events=suelo)\n",
    "x_v_f = solve_ivp(caida,(0,tf),ci,args=(9.81,0.3,),dense_output=True,events=suelo)\n",
    "x_v.t_events[0][0]"
   ]
  },
  {
   "cell_type": "code",
   "execution_count": 112,
   "id": "aa3a78fb",
   "metadata": {},
   "outputs": [
    {
     "data": {
      "image/png": "[encoded data removed]",
      "text/plain": [
       "<Figure size 432x288 with 1 Axes>"
      ]
     },
     "metadata": {
      "needs_background": "light"
     },
     "output_type": "display_data"
    }
   ],
   "source": [
    "t = linspace(0,x_v.t_events[0][0])\n",
    "x,vx,y,vy = x_v.sol(t)\n",
    "plot(x,y)\n",
    "t = linspace(0,x_v_f.t_events[0][0])\n",
    "x,vx,y,vy = x_v_f.sol(t)\n",
    "plot(x,y)\n",
    "ylim([-0.1,2.5])\n",
    "show()"
   ]
  },
  {
   "cell_type": "code",
   "execution_count": 188,
   "id": "cb5187be",
   "metadata": {},
   "outputs": [],
   "source": [
    "def caida_rebote(ci,tf,g=9.81,fric=0,reb_tot=10):\n",
    "    delta_t = 0.1\n",
    "    x , y , t , reb , ti = array([]) , array([]) , array([]) , 0 , 0\n",
    "    while reb <= reb_tot-1:\n",
    "        x_v = solve_ivp(caida,(0,tf),ci,args=(g,fric,),\n",
    "                        dense_output=True,events=suelo)\n",
    "        t_loc = arange(ti,x_v.t_events[0][-1],delta_t)\n",
    "        #t_loc = linspace(0,x_v.t_events[0][-1],pts_rebote)\n",
    "        x_loc , vx_loc , y_loc , vy_loc = x_v.sol(t_loc)\n",
    "        x , y = concatenate((x,x_loc)) , concatenate((y,y_loc))\n",
    "        ci = [x_loc[-1] , vx_loc[-1] , y_loc[-1] , -vy_loc[-1]]\n",
    "        reb += 1\n",
    "    return x,y"
   ]
  },
  {
   "cell_type": "code",
   "execution_count": 189,
   "id": "b19b59c9",
   "metadata": {},
   "outputs": [
    {
     "data": {
      "image/png": "[encoded data removed]",
      "text/plain": [
       "<Figure size 432x288 with 1 Axes>"
      ]
     },
     "metadata": {
      "needs_background": "light"
     },
     "output_type": "display_data"
    }
   ],
   "source": [
    "x,y = caida_rebote(ci,3,fric=0.5,reb_tot=3)\n",
    "plot(x,y,'.')\n",
    "show()"
   ]
  },
  {
   "cell_type": "code",
   "execution_count": 193,
   "id": "21ae3372",
   "metadata": {},
   "outputs": [
    {
     "data": {
      "text/plain": [
       "array([0. , 0.1, 0.2, 0.3, 0.4, 0.5, 0.6, 0.7, 0.8, 0.9, 1. ])"
      ]
     },
     "execution_count": 193,
     "metadata": {},
     "output_type": "execute_result"
    }
   ],
   "source": [
    "arange(0,1.05,0.1)"
   ]
  },
  {
   "cell_type": "code",
   "execution_count": null,
   "id": "1089912b",
   "metadata": {},
   "outputs": [],
   "source": []
  }
 ],
 "metadata": {
  "kernelspec": {
   "display_name": "Python 3 (ipykernel)",
   "language": "python",
   "name": "python3"
  },
  "language_info": {
   "codemirror_mode": {
    "name": "ipython",
    "version": 3
   },
   "file_extension": ".py",
   "mimetype": "text/x-python",
   "name": "python",
   "nbconvert_exporter": "python",
   "pygments_lexer": "ipython3",
   "version": "3.9.12"
  }
 },
 "nbformat": 4,
 "nbformat_minor": 5
}
