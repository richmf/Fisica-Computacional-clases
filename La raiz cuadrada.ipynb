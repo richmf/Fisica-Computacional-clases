{
 "cells": [
  {
   "cell_type": "code",
   "execution_count": 1,
   "id": "eeb844c4-046f-448a-bf47-a711e8b11760",
   "metadata": {},
   "outputs": [],
   "source": [
    "from pylab import *"
   ]
  },
  {
   "cell_type": "code",
   "execution_count": 2,
   "id": "5ce0397d-8534-4779-abcb-289b8a0afa33",
   "metadata": {},
   "outputs": [],
   "source": [
    "def mi_sqrt(num):\n",
    "    num_str , PE = str(num) , str(int(num))\n",
    "    LT , LPE = len(num_str) , len(PE)\n",
    "    PD = num_str[LPE+1:]\n",
    "    LPD = len(PD)\n",
    "    cic_ent , cic_dec = int(LPE/2) + LPE%2 , int(LPD/2) + LPD%2 \n",
    "    seg_PE , seg_PD = np.zeros(cic_ent) , np.zeros(cic_dec)\n",
    "    for i in range(cic_ent):\n",
    "        if i == 0:\n",
    "            seg_PE[cic_ent-1] = PE[-2*i-2::]\n",
    "        else:\n",
    "            seg_PE[cic_ent-i-1] = PE[-2*i-2:-2*i]\n",
    "    for i in range(cic_dec):\n",
    "        seg_PD[i] = float(PD[2*i:2*i+2])\n",
    "    if LPD%2 == 1:\n",
    "        seg_PD[-1] = seg_PD[-1]*10\n",
    "    # Aqui viene lo bueno\n",
    "    j = 0\n",
    "    while j**2 <= seg_PE[0]:\n",
    "        j += 1\n",
    "    j += -1\n",
    "    raiz = str(j)\n",
    "    residuo = seg_PE[0] - j**2\n",
    "    print(raiz)\n",
    "    for i in range(cic_ent-1):\n",
    "        j , residuo = 0 , residuo*100+seg_PE[i+1]\n",
    "        aproximacion = (20*float(raiz)+j)*j\n",
    "        while aproximacion <= residuo:\n",
    "            j +=1\n",
    "            aproximacion = (20*float(raiz)+j)*j\n",
    "        if j == 0:\n",
    "            residuo += -(20*float(raiz)+j)*j\n",
    "            raiz += str(j)\n",
    "        else:\n",
    "            residuo += -(20*float(raiz)+(j-1))*(j-1)\n",
    "            raiz += str(j-1)\n",
    "        print(raiz)\n",
    "    # parte decimal\n",
    "    for i in range(cic_dec):\n",
    "        j , residuo = 0 , residuo*100+seg_PD[i]\n",
    "        aproximacion = (20*float(raiz)+j)*j\n",
    "        while aproximacion <= residuo:\n",
    "            j += 1\n",
    "            aproximacion = (20*float(raiz)+j)*j\n",
    "        if j == 0:\n",
    "            residuo += -(20*float(raiz)+(j))*(j)\n",
    "            raiz += str(j)\n",
    "        else:\n",
    "            residuo += -(20*float(raiz)+(j-1))*(j-1)\n",
    "            raiz += str(j-1)\n",
    "        print(float(raiz)/(10**(i+1)))    \n",
    "    return float(raiz)/(10**cic_dec)"
   ]
  },
  {
   "cell_type": "code",
   "execution_count": 3,
   "id": "1358252e",
   "metadata": {},
   "outputs": [
    {
     "name": "stdout",
     "output_type": "stream",
     "text": [
      "4\n",
      "46\n",
      "468\n",
      "468.3\n",
      "468.35\n",
      "468.351\n"
     ]
    },
    {
     "data": {
      "text/plain": [
       "468.351"
      ]
     },
     "execution_count": 3,
     "metadata": {},
     "output_type": "execute_result"
    }
   ],
   "source": [
    "a = 219353.021896\n",
    "mi_sqrt(a)"
   ]
  },
  {
   "cell_type": "code",
   "execution_count": 4,
   "id": "9b2d97bb",
   "metadata": {},
   "outputs": [
    {
     "data": {
      "text/plain": [
       "468.35138720409486"
      ]
     },
     "execution_count": 4,
     "metadata": {},
     "output_type": "execute_result"
    }
   ],
   "source": [
    "sqrt(a)"
   ]
  },
  {
   "cell_type": "markdown",
   "id": "7e940652",
   "metadata": {},
   "source": [
    "# Raiz a la Newton"
   ]
  },
  {
   "cell_type": "markdown",
   "id": "67039d0f",
   "metadata": {},
   "source": [
    "$$\n",
    "x_{n+1} = x_{n} - \\frac{x_n ^2 - n_f}{2x_n}\n",
    "$$"
   ]
  },
  {
   "cell_type": "code",
   "execution_count": 32,
   "id": "59a307bf",
   "metadata": {},
   "outputs": [],
   "source": [
    "def raiz_newton(num, error = 1e-5):\n",
    "    x0 , diferencia = num , 1 \n",
    "    while diferencia > error:\n",
    "        x_old = x0\n",
    "        x0 = 0.5*(x0**2 + num)/x0\n",
    "        diferencia = abs(x0 - x_old) \n",
    "    return x0"
   ]
  },
  {
   "cell_type": "code",
   "execution_count": 33,
   "id": "493d9b2f",
   "metadata": {},
   "outputs": [
    {
     "data": {
      "text/plain": [
       "(20220.84859973218, 20220.84859973218)"
      ]
     },
     "execution_count": 33,
     "metadata": {},
     "output_type": "execute_result"
    }
   ],
   "source": [
    "num = 408882718.0932908908902\n",
    "raiz_newton(num) , sqrt(num)"
   ]
  },
  {
   "cell_type": "code",
   "execution_count": 34,
   "id": "75369cb7",
   "metadata": {},
   "outputs": [
    {
     "name": "stdout",
     "output_type": "stream",
     "text": [
      "2.76 µs ± 25 ns per loop (mean ± std. dev. of 7 runs, 100,000 loops each)\n"
     ]
    }
   ],
   "source": [
    "%%timeit\n",
    "raiz_newton(num)"
   ]
  },
  {
   "cell_type": "code",
   "execution_count": null,
   "id": "70876a38",
   "metadata": {},
   "outputs": [],
   "source": []
  }
 ],
 "metadata": {
  "kernelspec": {
   "display_name": "Python 3 (ipykernel)",
   "language": "python",
   "name": "python3"
  },
  "language_info": {
   "codemirror_mode": {
    "name": "ipython",
    "version": 3
   },
   "file_extension": ".py",
   "mimetype": "text/x-python",
   "name": "python",
   "nbconvert_exporter": "python",
   "pygments_lexer": "ipython3",
   "version": "3.9.12"
  }
 },
 "nbformat": 4,
 "nbformat_minor": 5
}
