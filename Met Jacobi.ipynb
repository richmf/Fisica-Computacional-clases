{
 "cells": [
  {
   "cell_type": "code",
   "execution_count": 1,
   "id": "3fd707d7",
   "metadata": {},
   "outputs": [],
   "source": [
    "from pylab import *"
   ]
  },
  {
   "cell_type": "code",
   "execution_count": 7,
   "id": "9ea234f1",
   "metadata": {},
   "outputs": [],
   "source": [
    "def malla_cuad_circ(x,y,r=0.5):\n",
    "    N , M = len(x) , len(y) # i,j\n",
    "    malla = zeros((N,M))\n",
    "    for i in range(N):\n",
    "        for j in range(M):\n",
    "            if sqrt( x[i]**2 + y[j]**2) < r:\n",
    "                malla[i,j] = 1\n",
    "    return malla"
   ]
  },
  {
   "cell_type": "code",
   "execution_count": 11,
   "id": "e49bf536",
   "metadata": {},
   "outputs": [
    {
     "data": {
      "image/png": "[encoded data removed]",
      "text/plain": [
       "<Figure size 432x288 with 1 Axes>"
      ]
     },
     "metadata": {
      "needs_background": "light"
     },
     "output_type": "display_data"
    }
   ],
   "source": [
    "x = arange(-1,1.1,0.0025)\n",
    "y = arange(-1,1.1,0.0025)\n",
    "XX , YY = meshgrid(x,y)\n",
    "V = malla_cuad_circ(x,y)\n",
    "contourf(XX,YY,V)\n",
    "gca().set_aspect('equal')\n",
    "show()"
   ]
  },
  {
   "cell_type": "code",
   "execution_count": null,
   "id": "c1bb6db2",
   "metadata": {},
   "outputs": [],
   "source": []
  }
 ],
 "metadata": {
  "kernelspec": {
   "display_name": "Python 3 (ipykernel)",
   "language": "python",
   "name": "python3"
  },
  "language_info": {
   "codemirror_mode": {
    "name": "ipython",
    "version": 3
   },
   "file_extension": ".py",
   "mimetype": "text/x-python",
   "name": "python",
   "nbconvert_exporter": "python",
   "pygments_lexer": "ipython3",
   "version": "3.9.12"
  }
 },
 "nbformat": 4,
 "nbformat_minor": 5
}
