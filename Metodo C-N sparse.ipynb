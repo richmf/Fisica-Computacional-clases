{
 "cells": [
  {
   "cell_type": "code",
   "execution_count": 1,
   "id": "2f96fa12",
   "metadata": {},
   "outputs": [],
   "source": [
    "from pylab import *\n",
    "from scipy.sparse import *\n",
    "from scipy.sparse.linalg import *"
   ]
  },
  {
   "cell_type": "code",
   "execution_count": 2,
   "id": "826f6988",
   "metadata": {},
   "outputs": [],
   "source": [
    "def Mat_A(x_in,r):\n",
    "    N = len(x_in)\n",
    "    A = zeros((N,N))\n",
    "    for i in range(N-1):\n",
    "        A[i,i] = 2*(1+r)\n",
    "        A[i,i+1] = -r #diagonal superior\n",
    "        A[i+1,i] = -r #diagonal inferior\n",
    "    A[-1,-1] = 2*(1+r)\n",
    "    return A"
   ]
  },
  {
   "cell_type": "code",
   "execution_count": 3,
   "id": "d170da3f",
   "metadata": {},
   "outputs": [
    {
     "data": {
      "text/plain": [
       "array([[ 4., -1.,  0.],\n",
       "       [-1.,  4., -1.],\n",
       "       [ 0., -1.,  4.]])"
      ]
     },
     "execution_count": 3,
     "metadata": {},
     "output_type": "execute_result"
    }
   ],
   "source": [
    "x = linspace(0,1,5)\n",
    "A_normal = Mat_A(x[1:-1],1)\n",
    "A_normal"
   ]
  },
  {
   "cell_type": "code",
   "execution_count": 4,
   "id": "6ccc9f89",
   "metadata": {},
   "outputs": [
    {
     "data": {
      "text/plain": [
       "array([[ 4., -1.,  0.],\n",
       "       [-1.,  4., -1.],\n",
       "       [ 0., -1.,  4.]])"
      ]
     },
     "execution_count": 4,
     "metadata": {},
     "output_type": "execute_result"
    }
   ],
   "source": [
    "A_sparse = csr_matrix(A_normal)\n",
    "A_sparse.toarray()"
   ]
  },
  {
   "cell_type": "code",
   "execution_count": 5,
   "id": "53673442",
   "metadata": {},
   "outputs": [
    {
     "data": {
      "text/plain": [
       "<3x3 sparse matrix of type '<class 'numpy.float64'>'\n",
       "\twith 7 stored elements in Compressed Sparse Row format>"
      ]
     },
     "execution_count": 5,
     "metadata": {},
     "output_type": "execute_result"
    }
   ],
   "source": [
    "A_sparse"
   ]
  },
  {
   "cell_type": "code",
   "execution_count": 6,
   "id": "45b10b86",
   "metadata": {},
   "outputs": [
    {
     "data": {
      "text/plain": [
       "array([[ 4.,  1.,  0.],\n",
       "       [-1.,  4.,  1.],\n",
       "       [ 0., -1.,  4.]])"
      ]
     },
     "execution_count": 6,
     "metadata": {},
     "output_type": "execute_result"
    }
   ],
   "source": [
    "A_diags = diags([-1,4,1],[-1,0,1],shape=(3,3))\n",
    "A_diags.toarray()"
   ]
  },
  {
   "cell_type": "code",
   "execution_count": 7,
   "id": "24c0cbee",
   "metadata": {},
   "outputs": [],
   "source": [
    "def Mat_A_sparse(x_in,r):\n",
    "    N = len(x_in)\n",
    "    A = diags([-r,2*(1+r),-r],[-1,0,1],shape=(N,N))\n",
    "    return A"
   ]
  },
  {
   "cell_type": "code",
   "execution_count": 8,
   "id": "1cb61276",
   "metadata": {},
   "outputs": [
    {
     "data": {
      "text/plain": [
       "<7x7 sparse matrix of type '<class 'numpy.float64'>'\n",
       "\twith 19 stored elements (3 diagonals) in DIAgonal format>"
      ]
     },
     "execution_count": 8,
     "metadata": {},
     "output_type": "execute_result"
    }
   ],
   "source": [
    "x = linspace(0,1,9)\n",
    "A_ds = Mat_A_sparse(x[1:-1],0.5)\n",
    "A_ds"
   ]
  },
  {
   "cell_type": "code",
   "execution_count": 9,
   "id": "a7a98f03",
   "metadata": {},
   "outputs": [
    {
     "data": {
      "text/plain": [
       "array([[ 3. , -0.5,  0. ,  0. ,  0. ,  0. ,  0. ],\n",
       "       [-0.5,  3. , -0.5,  0. ,  0. ,  0. ,  0. ],\n",
       "       [ 0. , -0.5,  3. , -0.5,  0. ,  0. ,  0. ],\n",
       "       [ 0. ,  0. , -0.5,  3. , -0.5,  0. ,  0. ],\n",
       "       [ 0. ,  0. ,  0. , -0.5,  3. , -0.5,  0. ],\n",
       "       [ 0. ,  0. ,  0. ,  0. , -0.5,  3. , -0.5],\n",
       "       [ 0. ,  0. ,  0. ,  0. ,  0. , -0.5,  3. ]])"
      ]
     },
     "execution_count": 9,
     "metadata": {},
     "output_type": "execute_result"
    }
   ],
   "source": [
    "A_ds.toarray()"
   ]
  },
  {
   "cell_type": "code",
   "execution_count": 10,
   "id": "229c28bd",
   "metadata": {},
   "outputs": [],
   "source": [
    "C = inv(csc_matrix(A_ds))"
   ]
  },
  {
   "cell_type": "code",
   "execution_count": 11,
   "id": "b52f5b77",
   "metadata": {},
   "outputs": [
    {
     "data": {
      "text/plain": [
       "array([[ 1.00000000e+00,  0.00000000e+00, -3.46944695e-18,\n",
       "         8.67361738e-19,  1.08420217e-19, -2.71050543e-20,\n",
       "         0.00000000e+00],\n",
       "       [ 0.00000000e+00,  1.00000000e+00, -2.77555756e-17,\n",
       "         0.00000000e+00,  8.67361738e-19, -1.08420217e-19,\n",
       "         2.71050543e-20],\n",
       "       [-6.93889390e-18,  2.51534904e-17,  1.00000000e+00,\n",
       "         0.00000000e+00,  3.46944695e-18, -8.67361738e-19,\n",
       "         1.08420217e-19],\n",
       "       [-8.67361738e-19, -3.25260652e-19,  3.90312782e-17,\n",
       "         1.00000000e+00,  2.77555756e-17, -3.46944695e-18,\n",
       "         0.00000000e+00],\n",
       "       [-2.16840434e-19, -1.89735380e-19,  3.90312782e-18,\n",
       "        -1.90819582e-17,  1.00000000e+00, -2.77555756e-17,\n",
       "         0.00000000e+00],\n",
       "       [-2.71050543e-20,  5.08219768e-20,  4.87890978e-19,\n",
       "        -3.03576608e-18,  1.21430643e-17,  1.00000000e+00,\n",
       "         0.00000000e+00],\n",
       "       [-3.38813179e-21,  3.55753838e-20, -6.09863722e-20,\n",
       "         6.77626358e-19, -7.15573434e-18, -1.73472348e-18,\n",
       "         1.00000000e+00]])"
      ]
     },
     "execution_count": 11,
     "metadata": {},
     "output_type": "execute_result"
    }
   ],
   "source": [
    "dot(C,A_ds).toarray()"
   ]
  },
  {
   "cell_type": "code",
   "execution_count": null,
   "id": "92d5266a",
   "metadata": {},
   "outputs": [],
   "source": []
  }
 ],
 "metadata": {
  "kernelspec": {
   "display_name": "Python 3 (ipykernel)",
   "language": "python",
   "name": "python3"
  },
  "language_info": {
   "codemirror_mode": {
    "name": "ipython",
    "version": 3
   },
   "file_extension": ".py",
   "mimetype": "text/x-python",
   "name": "python",
   "nbconvert_exporter": "python",
   "pygments_lexer": "ipython3",
   "version": "3.9.12"
  }
 },
 "nbformat": 4,
 "nbformat_minor": 5
}
